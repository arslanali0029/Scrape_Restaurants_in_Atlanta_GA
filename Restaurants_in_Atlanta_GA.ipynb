{
 "cells": [
  {
   "cell_type": "code",
   "execution_count": 1,
   "metadata": {},
   "outputs": [],
   "source": [
    "from bs4 import BeautifulSoup as Soup\n",
    "import requests as req"
   ]
  },
  {
   "cell_type": "code",
   "execution_count": 6,
   "metadata": {},
   "outputs": [],
   "source": [
    "req_url = req.get(\"https://primenow.amazon.com/restaurants/delivery/atlanta?ref_=pnr_lp_c_15281871011\")\n",
    "Content = req_url.content"
   ]
  },
  {
   "cell_type": "code",
   "execution_count": 15,
   "metadata": {},
   "outputs": [
    {
     "name": "stdout",
     "output_type": "stream",
     "text": [
      "141\n"
     ]
    }
   ],
   "source": [
    "page_soup = Soup(Content,'html.parser')\n",
    "front_restaurants = page_soup.findAll(\"div\",{\"class\":\"hw-grid-item\"})\n",
    "print(len(front_restaurants))"
   ]
  },
  {
   "cell_type": "code",
   "execution_count": 17,
   "metadata": {},
   "outputs": [
    {
     "name": "stdout",
     "output_type": "stream",
     "text": [
      "<div class=\"hw-grid-item hw-seo-city-hidden-grid-item\">\n",
      " <div class=\"hw-grid-card\">\n",
      "  <a class=\"hw-grid-card-list-item-inner\" href=\"/restaurants/gyro-bros-midtown-delivery-atlanta/d/B01N0XHEGO?ref_=amzrst_pnr_cp_b_B01N0XHEGO_46\" role=\"listitem\">\n",
      "   <div class=\"hw-grid-card-list-item-image-wrapper\">\n",
      "    <div class=\"hw-grid-primary-image\" style=\"background-image: url(https://m.media-amazon.com/images/G/01/ember/restaurants/Atlanta/GyroBrosGeorgiaTech/GyrosBros_ChickenGyro_640x270_640x270._CB506567772_SX600_QL70_.jpg)\">\n",
      "    </div>\n",
      "   </div>\n",
      "   <div class=\"hw-grid-card-list-item-desc\">\n",
      "    <div class=\"a-row\">\n",
      "     <span class=\"a-size-base a-color-base a-text-ellipsis hw-grid-card-hover-title a-text-bold\">\n",
      "      Gyro Bros - Midtown\n",
      "     </span>\n",
      "    </div>\n",
      "    <div class=\"a-row a-color-secondary\">\n",
      "     <div class=\"hw-grid-card-subcat a-text-ellipsis\">\n",
      "      American\n",
      "     </div>\n",
      "     <div class=\"hw-grid-card-price-tier\">\n",
      "      <span aria-label=\"1 out of 4 dollar signs\">\n",
      "       <span aria-hidden=\"true\" class=\"a-color-base\">\n",
      "        <span class=\"alr-price-tier-value\">\n",
      "         $\n",
      "        </span>\n",
      "        <span class=\"alr-price-tier-filler\" style=\"color: #bcbbba;\">\n",
      "         $$$\n",
      "        </span>\n",
      "       </span>\n",
      "      </span>\n",
      "     </div>\n",
      "    </div>\n",
      "    <div class=\"hw-grid-card-list-item-reviews\">\n",
      "     <div class=\"a-row a-color-base hw-grid-card-list-item-stars\">\n",
      "      <i class=\"a-icon a-icon-star-mini a-star-mini-3\">\n",
      "       <span class=\"a-icon-alt\">\n",
      "        3.0 out of 5\n",
      "       </span>\n",
      "      </i>\n",
      "      <div aria-label=\"1 reviews\" class=\"hw-dp-num-reviews-label\">\n",
      "       <span aria-hidden=\"true\" class=\"a-size-small\">\n",
      "        1\n",
      "       </span>\n",
      "      </div>\n",
      "     </div>\n",
      "    </div>\n",
      "   </div>\n",
      "  </a>\n",
      " </div>\n",
      "</div>\n",
      "\n"
     ]
    }
   ],
   "source": [
    "print(Soup.prettify(front_restaurants[45]))"
   ]
  },
  {
   "cell_type": "code",
   "execution_count": null,
   "metadata": {},
   "outputs": [],
   "source": []
  }
 ],
 "metadata": {
  "kernelspec": {
   "display_name": "Python 3",
   "language": "python",
   "name": "python3"
  },
  "language_info": {
   "codemirror_mode": {
    "name": "ipython",
    "version": 3
   },
   "file_extension": ".py",
   "mimetype": "text/x-python",
   "name": "python",
   "nbconvert_exporter": "python",
   "pygments_lexer": "ipython3",
   "version": "3.7.0"
  }
 },
 "nbformat": 4,
 "nbformat_minor": 2
}
